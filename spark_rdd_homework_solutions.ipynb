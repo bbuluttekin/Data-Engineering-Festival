{
  "nbformat": 4,
  "nbformat_minor": 0,
  "metadata": {
    "kernelspec": {
      "display_name": "Python 3",
      "language": "python",
      "name": "python3"
    },
    "language_info": {
      "codemirror_mode": {
        "name": "ipython",
        "version": 3
      },
      "file_extension": ".py",
      "mimetype": "text/x-python",
      "name": "python",
      "nbconvert_exporter": "python",
      "pygments_lexer": "ipython3",
      "version": "3.6.6"
    },
    "colab": {
      "name": "spark-rdd-homework-solutions.ipynb",
      "version": "0.3.2",
      "provenance": [],
      "collapsed_sections": [],
      "toc_visible": true
    }
  },
  "cells": [
    {
      "cell_type": "markdown",
      "metadata": {
        "id": "L6sxEX0VBTH5",
        "colab_type": "text"
      },
      "source": [
        "# HackerNews data analysis challenge with Spark"
      ]
    },
    {
      "cell_type": "markdown",
      "metadata": {
        "id": "HjdYW2YFBTH7",
        "colab_type": "text"
      },
      "source": [
        "In this notebook, you will analyse a dataset of (almost) all submitted HackerNews posts with Spark. \n",
        "\n",
        "The notebook is a convenient way to explore your data, but you will be asked to implement corresponding functions in the `spark_rdd.py` file that will be submitted to KATE. Having standalone functions is a good way to automate reporting of the different metrics we will look at in a prouction environment.\n",
        "\n",
        "Let's start by importing some of the libraries you will need."
      ]
    },
    {
      "cell_type": "code",
      "metadata": {
        "id": "HEK-ornECaja",
        "colab_type": "code",
        "outputId": "6cc4cf83-477b-4c98-e312-a390ae2be98d",
        "colab": {
          "base_uri": "https://localhost:8080/",
          "height": 379
        }
      },
      "source": [
        "!apt-get update\n",
        "!apt-get install openjdk-8-jdk-headless -qq > /dev/null\n",
        "!wget -q http://archive.apache.org/dist/spark/spark-2.3.1/spark-2.3.1-bin-hadoop2.7.tgz\n",
        "!tar xf spark-2.3.1-bin-hadoop2.7.tgz\n",
        "!pip install -q findspark"
      ],
      "execution_count": 0,
      "outputs": [
        {
          "output_type": "stream",
          "text": [
            "\r0% [Working]\r            \rGet:1 https://cloud.r-project.org/bin/linux/ubuntu bionic-cran35/ InRelease [3,622 B]\n",
            "\r0% [Connecting to archive.ubuntu.com (91.189.88.24)] [Connecting to security.ub\r0% [Connecting to archive.ubuntu.com (91.189.88.24)] [Connecting to security.ub\r0% [1 InRelease gpgv 3,622 B] [Connecting to archive.ubuntu.com (91.189.88.24)]\r                                                                               \rIgn:2 https://developer.download.nvidia.com/compute/cuda/repos/ubuntu1804/x86_64  InRelease\n",
            "\r0% [1 InRelease gpgv 3,622 B] [Connecting to archive.ubuntu.com (91.189.88.24)]\r                                                                               \rIgn:3 https://developer.download.nvidia.com/compute/machine-learning/repos/ubuntu1804/x86_64  InRelease\n",
            "\r0% [1 InRelease gpgv 3,622 B] [Waiting for headers] [Waiting for headers] [Wait\r                                                                               \rHit:4 https://developer.download.nvidia.com/compute/cuda/repos/ubuntu1804/x86_64  Release\n",
            "\r0% [1 InRelease gpgv 3,622 B] [Waiting for headers] [Waiting for headers] [Wait\r                                                                               \rGet:5 https://developer.download.nvidia.com/compute/machine-learning/repos/ubuntu1804/x86_64  Release [564 B]\n",
            "Get:6 https://developer.download.nvidia.com/compute/machine-learning/repos/ubuntu1804/x86_64  Release.gpg [833 B]\n",
            "Get:7 http://security.ubuntu.com/ubuntu bionic-security InRelease [88.7 kB]\n",
            "Hit:8 http://ppa.launchpad.net/graphics-drivers/ppa/ubuntu bionic InRelease\n",
            "Hit:9 http://archive.ubuntu.com/ubuntu bionic InRelease\n",
            "Get:10 http://archive.ubuntu.com/ubuntu bionic-updates InRelease [88.7 kB]\n",
            "Get:12 http://ppa.launchpad.net/marutter/c2d4u3.5/ubuntu bionic InRelease [15.4 kB]\n",
            "Get:13 https://developer.download.nvidia.com/compute/machine-learning/repos/ubuntu1804/x86_64  Packages [13.2 kB]\n",
            "Get:14 http://archive.ubuntu.com/ubuntu bionic-backports InRelease [74.6 kB]\n",
            "Get:15 http://ppa.launchpad.net/marutter/c2d4u3.5/ubuntu bionic/main Sources [1,678 kB]\n",
            "Get:16 http://archive.ubuntu.com/ubuntu bionic-updates/universe amd64 Packages [1,278 kB]\n",
            "Get:17 http://archive.ubuntu.com/ubuntu bionic-updates/main amd64 Packages [925 kB]\n",
            "Get:18 http://ppa.launchpad.net/marutter/c2d4u3.5/ubuntu bionic/main amd64 Packages [806 kB]\n",
            "Fetched 4,973 kB in 4s (1,149 kB/s)\n",
            "Reading package lists... Done\n"
          ],
          "name": "stdout"
        }
      ]
    },
    {
      "cell_type": "code",
      "metadata": {
        "id": "5xQN8G9RNGSt",
        "colab_type": "code",
        "colab": {}
      },
      "source": [
        "import os\n",
        "os.environ[\"JAVA_HOME\"] = \"/usr/lib/jvm/java-8-openjdk-amd64\"\n",
        "os.environ[\"SPARK_HOME\"] = \"/content/spark-2.3.1-bin-hadoop2.7\""
      ],
      "execution_count": 0,
      "outputs": []
    },
    {
      "cell_type": "code",
      "metadata": {
        "id": "bvOs6XFICztx",
        "colab_type": "code",
        "outputId": "2ac988b2-a38c-4835-9aa7-6ca2afb5b4dd",
        "colab": {
          "resources": {
            "http://localhost:8080/nbextensions/google.colab/files.js": {
              "data": "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",
              "ok": true,
              "headers": [
                [
                  "content-type",
                  "application/javascript"
                ]
              ],
              "status": 200,
              "status_text": ""
            }
          },
          "base_uri": "https://localhost:8080/",
          "height": 110
        }
      },
      "source": [
        "from google.colab import files\n",
        "files.upload()"
      ],
      "execution_count": 0,
      "outputs": [
        {
          "output_type": "display_data",
          "data": {
            "text/html": [
              "\n",
              "     <input type=\"file\" id=\"files-8f8a4fe4-f567-4110-8f1e-880fe4d65b3f\" name=\"files[]\" multiple disabled />\n",
              "     <output id=\"result-8f8a4fe4-f567-4110-8f1e-880fe4d65b3f\">\n",
              "      Upload widget is only available when the cell has been executed in the\n",
              "      current browser session. Please rerun this cell to enable.\n",
              "      </output>\n",
              "      <script src=\"/nbextensions/google.colab/files.js\"></script> "
            ],
            "text/plain": [
              "<IPython.core.display.HTML object>"
            ]
          },
          "metadata": {
            "tags": []
          }
        },
        {
          "output_type": "stream",
          "text": [
            "Saving get_data.py to get_data.py\n"
          ],
          "name": "stdout"
        },
        {
          "output_type": "execute_result",
          "data": {
            "text/plain": [
              "{'get_data.py': b'import urllib.request\\nimport zipfile\\nfrom io import BytesIO\\n\\nDATASET_URL = \"https://s3-eu-west-1.amazonaws.com/kate-datasets/hackernews/HNStories.zip\"\\nDATA_DIR = \"data\"\\n\\nif __name__ == \"__main__\":\\n\\n    req = urllib.request.urlopen(DATASET_URL)\\n    data = BytesIO(req.read())\\n\\n    with zipfile.ZipFile(data, \"r\") as zipref:\\n        zipref.extractall(DATA_DIR)\\n'}"
            ]
          },
          "metadata": {
            "tags": []
          },
          "execution_count": 5
        }
      ]
    },
    {
      "cell_type": "code",
      "metadata": {
        "id": "bn5fAYsbDAdi",
        "colab_type": "code",
        "colab": {}
      },
      "source": [
        "!python get_data.py"
      ],
      "execution_count": 0,
      "outputs": []
    },
    {
      "cell_type": "code",
      "metadata": {
        "id": "0OvKYd3FBTH_",
        "colab_type": "code",
        "outputId": "76edceb1-0006-4b7c-8190-a5d3a67778e8",
        "colab": {
          "base_uri": "https://localhost:8080/",
          "height": 53
        }
      },
      "source": [
        "import findspark\n",
        "findspark.init()\n",
        "\n",
        "import json\n",
        "import numpy as np\n",
        "import matplotlib.pyplot as plt\n",
        "from datetime import datetime as dt\n",
        "from pyspark import SparkContext\n",
        "\n",
        "sc = SparkContext.getOrCreate()\n",
        "print(sc)\n",
        "print(\"Ready to go!\")\n",
        "%matplotlib inline"
      ],
      "execution_count": 0,
      "outputs": [
        {
          "output_type": "stream",
          "text": [
            "<SparkContext master=local[*] appName=pyspark-shell>\n",
            "Ready to go!\n"
          ],
          "name": "stdout"
        }
      ]
    },
    {
      "cell_type": "code",
      "metadata": {
        "id": "rZX-uHpHOyeQ",
        "colab_type": "code",
        "outputId": "2f85f989-9f08-4f29-9447-b35e6687b9dc",
        "colab": {
          "base_uri": "https://localhost:8080/",
          "height": 196
        }
      },
      "source": [
        "sc"
      ],
      "execution_count": 0,
      "outputs": [
        {
          "output_type": "execute_result",
          "data": {
            "text/html": [
              "\n",
              "        <div>\n",
              "            <p><b>SparkContext</b></p>\n",
              "\n",
              "            <p><a href=\"http://c6150056d362:4040\">Spark UI</a></p>\n",
              "\n",
              "            <dl>\n",
              "              <dt>Version</dt>\n",
              "                <dd><code>v2.3.1</code></dd>\n",
              "              <dt>Master</dt>\n",
              "                <dd><code>local[*]</code></dd>\n",
              "              <dt>AppName</dt>\n",
              "                <dd><code>pyspark-shell</code></dd>\n",
              "            </dl>\n",
              "        </div>\n",
              "        "
            ],
            "text/plain": [
              "<SparkContext master=local[*] appName=pyspark-shell>"
            ]
          },
          "metadata": {
            "tags": []
          },
          "execution_count": 8
        }
      ]
    },
    {
      "cell_type": "markdown",
      "metadata": {
        "id": "Zr2rHVKPBTIC",
        "colab_type": "text"
      },
      "source": [
        "The file has one JSON entry per line. In order to make accessing it easier, first turn each entry as a dictionary and use `persist()` to cache the resulting RDD. \n",
        "\n",
        "Remember to download the dataset (instructions in `Readme.md`)"
      ]
    },
    {
      "cell_type": "code",
      "metadata": {
        "id": "gweyt4e1BTIC",
        "colab_type": "code",
        "outputId": "199fad7a-9f29-4109-eff7-e54f2bb0bb02",
        "colab": {
          "base_uri": "https://localhost:8080/",
          "height": 35
        }
      },
      "source": [
        "dataset_json = sc.textFile(\"data/HNStories.json\")\n",
        "dataset = dataset_json.map(lambda x: json.loads(x))\n",
        "dataset.persist()"
      ],
      "execution_count": 0,
      "outputs": [
        {
          "output_type": "execute_result",
          "data": {
            "text/plain": [
              "PythonRDD[2] at RDD at PythonRDD.scala:49"
            ]
          },
          "metadata": {
            "tags": []
          },
          "execution_count": 9
        }
      ]
    },
    {
      "cell_type": "markdown",
      "metadata": {
        "id": "RaGUonsYBTIE",
        "colab_type": "text"
      },
      "source": [
        "Finally, Spark has many helper functions on top of the ones we have studied which you will find useful. You can view them at [http://spark.apache.org/docs/latest/api/python/pyspark.html#pyspark.RDD](http://spark.apache.org/docs/latest/api/python/pyspark.html#pyspark.RDD)"
      ]
    },
    {
      "cell_type": "markdown",
      "metadata": {
        "id": "LSVL8mNHBTIF",
        "colab_type": "text"
      },
      "source": [
        "### Function `count_elements_in_dataset`"
      ]
    },
    {
      "cell_type": "markdown",
      "metadata": {
        "id": "GDpDc3OqBTIG",
        "colab_type": "text"
      },
      "source": [
        "Lets start with some initial analysis. \n",
        "\n",
        "**How many elements are in your datasets?**\n"
      ]
    },
    {
      "cell_type": "code",
      "metadata": {
        "id": "bXiaKaGaBTIG",
        "colab_type": "code",
        "outputId": "2ace7d8c-14d5-4a8a-ce34-3c367d159486",
        "colab": {
          "base_uri": "https://localhost:8080/",
          "height": 35
        }
      },
      "source": [
        "dataset.count()"
      ],
      "execution_count": 0,
      "outputs": [
        {
          "output_type": "execute_result",
          "data": {
            "text/plain": [
              "1333789"
            ]
          },
          "metadata": {
            "tags": []
          },
          "execution_count": 10
        }
      ]
    },
    {
      "cell_type": "markdown",
      "metadata": {
        "id": "pWwSY7cnBTII",
        "colab_type": "text"
      },
      "source": [
        "### Function `get_first_element`"
      ]
    },
    {
      "cell_type": "markdown",
      "metadata": {
        "id": "1tBHyHsCBTIJ",
        "colab_type": "text"
      },
      "source": [
        "**What does the first element look like? Assign the result to a variable called `first` **\n"
      ]
    },
    {
      "cell_type": "code",
      "metadata": {
        "id": "MOjKHvpQBTIK",
        "colab_type": "code",
        "outputId": "a82a4189-808d-4390-bd33-b8608b9d6204",
        "colab": {
          "base_uri": "https://localhost:8080/",
          "height": 161
        }
      },
      "source": [
        "dataset.first()"
      ],
      "execution_count": 0,
      "outputs": [
        {
          "output_type": "execute_result",
          "data": {
            "text/plain": [
              "{'author': 'TuxLyn',\n",
              " 'created_at': '2014-05-29T08:25:40Z',\n",
              " 'created_at_i': 1401351940,\n",
              " 'num_comments': 0,\n",
              " 'objectID': '7815290',\n",
              " 'points': 1,\n",
              " 'title': 'DuckDuckGo Settings',\n",
              " 'url': 'https://duckduckgo.com/settings'}"
            ]
          },
          "metadata": {
            "tags": []
          },
          "execution_count": 11
        }
      ]
    },
    {
      "cell_type": "markdown",
      "metadata": {
        "id": "UuN46NhvBTIL",
        "colab_type": "text"
      },
      "source": [
        "### Function `get_all_attributes`"
      ]
    },
    {
      "cell_type": "markdown",
      "metadata": {
        "id": "aWioE3GaBTIM",
        "colab_type": "text"
      },
      "source": [
        "Each element is a dictionary of attributes and their values for a post. \n",
        "**Can you find the set of all attributes used throughout the RDD?**\n",
        "The function `dictionary.keys()` gives you the list of attributes of a dictionary."
      ]
    },
    {
      "cell_type": "code",
      "metadata": {
        "id": "SJsyCwTXBTIN",
        "colab_type": "code",
        "outputId": "d9bb6e8c-f330-4444-c49a-892247b57cb3",
        "colab": {
          "base_uri": "https://localhost:8080/",
          "height": 197
        }
      },
      "source": [
        "dataset.flatMap(lambda x:x.keys()).distinct().collect()"
      ],
      "execution_count": 0,
      "outputs": [
        {
          "output_type": "execute_result",
          "data": {
            "text/plain": [
              "['created_at',\n",
              " 'points',\n",
              " 'created_at_i',\n",
              " 'story_text',\n",
              " 'objectID',\n",
              " 'title',\n",
              " 'author',\n",
              " 'url',\n",
              " 'story_id',\n",
              " 'num_comments']"
            ]
          },
          "metadata": {
            "tags": []
          },
          "execution_count": 12
        }
      ]
    },
    {
      "cell_type": "markdown",
      "metadata": {
        "id": "y4NIVgHiBTIP",
        "colab_type": "text"
      },
      "source": [
        "### Function `get_elements_w_same_attributes`"
      ]
    },
    {
      "cell_type": "markdown",
      "metadata": {
        "id": "z4Onj9E7BTIQ",
        "colab_type": "text"
      },
      "source": [
        "We see that there are more attributes than just the one used in the first element. Can you filter the dataset to keep only elements that have the same set of attributes as the first element?\n",
        "Hint: you might want to write a function that compares attributes for two elements and apply it on your dataset."
      ]
    },
    {
      "cell_type": "code",
      "metadata": {
        "id": "F6JvFdnHBTIS",
        "colab_type": "code",
        "outputId": "da63fa09-e2b5-417e-b7d4-2e95b7fef3a1",
        "colab": {
          "base_uri": "https://localhost:8080/",
          "height": 35
        }
      },
      "source": [
        "def check(first_item, item):\n",
        "        first_attr = set(first_item.keys())\n",
        "        item_attr = set(item.keys())\n",
        "        return first_attr == item_attr\n",
        "        \n",
        "first_item = dataset.first()\n",
        "dataset.filter(lambda x: check(first_item, x)).count()"
      ],
      "execution_count": 0,
      "outputs": [
        {
          "output_type": "execute_result",
          "data": {
            "text/plain": [
              "1145245"
            ]
          },
          "metadata": {
            "tags": []
          },
          "execution_count": 13
        }
      ]
    },
    {
      "cell_type": "markdown",
      "metadata": {
        "id": "m4wcziljBTIX",
        "colab_type": "text"
      },
      "source": [
        "How many elements did you find?"
      ]
    },
    {
      "cell_type": "markdown",
      "metadata": {
        "id": "buX4XtLYBTIY",
        "colab_type": "text"
      },
      "source": [
        "### How many posts through time"
      ]
    },
    {
      "cell_type": "markdown",
      "metadata": {
        "id": "MPJTQP4wBTIY",
        "colab_type": "text"
      },
      "source": [
        "The field `created_at_i` is very useful, it gives you a UNIX timestamp of the time at which the file was created. The following function lets you extract a time from a timestamp."
      ]
    },
    {
      "cell_type": "code",
      "metadata": {
        "id": "x-Y-EsWvBTIa",
        "colab_type": "code",
        "colab": {}
      },
      "source": [
        "def extract_time(timestamp):\n",
        "    return dt.utcfromtimestamp(timestamp)"
      ],
      "execution_count": 0,
      "outputs": []
    },
    {
      "cell_type": "markdown",
      "metadata": {
        "id": "EGKsXvsHBTId",
        "colab_type": "text"
      },
      "source": [
        "### Function `get_min_max_timestamps`"
      ]
    },
    {
      "cell_type": "markdown",
      "metadata": {
        "id": "CngvIV1zBTIf",
        "colab_type": "text"
      },
      "source": [
        "**Find the minimum and maximum timestamps in the RDD and call them `min_time` and `max_time`.** \n",
        "These correspond to the first and last post, when did they occur? For the function `get_min_max_timestamps` you need to return min_time and max_time given a dataset"
      ]
    },
    {
      "cell_type": "code",
      "metadata": {
        "id": "Clv4CeVKBTIf",
        "colab_type": "code",
        "colab": {}
      },
      "source": [
        "# Find the minimum timestamp\n",
        "min_tstamp = dataset.map(lambda x: x['created_at_i']).reduce(\n",
        "        lambda x, y: x if x < y else y)\n",
        "min_tstamp =  extract_time(min_tstamp)"
      ],
      "execution_count": 0,
      "outputs": []
    },
    {
      "cell_type": "code",
      "metadata": {
        "id": "AZRbjUMhBTIh",
        "colab_type": "code",
        "colab": {}
      },
      "source": [
        "# Find the max timestamp\n",
        "max_tstamp = dataset.map(lambda x: x['created_at_i']).reduce(\n",
        "        lambda x, y: x if x > y else y)\n",
        "max_tstamp = extract_time(max_tstamp)"
      ],
      "execution_count": 0,
      "outputs": []
    },
    {
      "cell_type": "markdown",
      "metadata": {
        "id": "r-fuCtYDBTIj",
        "colab_type": "text"
      },
      "source": [
        "### Function `get_number_of_posts_per_bucket`"
      ]
    },
    {
      "cell_type": "markdown",
      "metadata": {
        "id": "eebKfsz_BTIk",
        "colab_type": "text"
      },
      "source": [
        "Now lets analyse how many elements through time. The following function assigns a record to one of 200 \"buckets\" of time. **Use it to count the number of elements that fall within each bucket and call the result `bucket_rdd`.** The result should be such that `buckets` below generates the corresponding output. If you want to use this function in your `spark_rdd.py` you will need to redefine it in the file."
      ]
    },
    {
      "cell_type": "code",
      "metadata": {
        "id": "GZJclwATBTIl",
        "colab_type": "code",
        "colab": {}
      },
      "source": [
        "def get_bucket(rec, min_timestamp, max_timestamp):\n",
        "    interval = (max_timestamp - min_timestamp + 1) / 200.0\n",
        "    return int((rec['created_at_i'] - min_timestamp)/interval)"
      ],
      "execution_count": 0,
      "outputs": []
    },
    {
      "cell_type": "code",
      "metadata": {
        "id": "wxYErcrkBTIn",
        "colab_type": "code",
        "colab": {}
      },
      "source": [
        "min_time = min_tstamp.timestamp()\n",
        "max_time = max_tstamp.timestamp()\n",
        "interval = (max_time - min_time + 1) / 200.0\n",
        "buckets_rdd = dataset.map(lambda x: (get_bucket(x, min_time, max_time), 1)).reduceByKey(lambda x, y: x + y)"
      ],
      "execution_count": 0,
      "outputs": []
    },
    {
      "cell_type": "code",
      "metadata": {
        "id": "-M1l-vtbBTIp",
        "colab_type": "code",
        "colab": {}
      },
      "source": [
        "buckets = sorted(buckets_rdd.collect())"
      ],
      "execution_count": 0,
      "outputs": []
    },
    {
      "cell_type": "markdown",
      "metadata": {
        "id": "3RrqX1uEBTIr",
        "colab_type": "text"
      },
      "source": [
        "We can then use this to plot the number of submitted posts over time."
      ]
    },
    {
      "cell_type": "code",
      "metadata": {
        "scrolled": false,
        "id": "Aso2s6KNBTIr",
        "colab_type": "code",
        "outputId": "14126eaa-75c5-4647-e3fb-6cbd24517c0e",
        "colab": {
          "base_uri": "https://localhost:8080/",
          "height": 415
        }
      },
      "source": [
        "bs = [dt.utcfromtimestamp(x[0]*interval + min_time) for x in buckets]\n",
        "ts = [x[1] for x in buckets]\n",
        "plt.plot(bs, ts)"
      ],
      "execution_count": 0,
      "outputs": [
        {
          "output_type": "stream",
          "text": [
            "/usr/local/lib/python3.6/dist-packages/pandas/plotting/_converter.py:129: FutureWarning: Using an implicitly registered datetime converter for a matplotlib plotting method. The converter was registered by pandas on import. Future versions of pandas will require you to explicitly register matplotlib converters.\n",
            "\n",
            "To register the converters:\n",
            "\t>>> from pandas.plotting import register_matplotlib_converters\n",
            "\t>>> register_matplotlib_converters()\n",
            "  warnings.warn(msg, FutureWarning)\n"
          ],
          "name": "stderr"
        },
        {
          "output_type": "execute_result",
          "data": {
            "text/plain": [
              "[<matplotlib.lines.Line2D at 0x7f142f1e5e80>]"
            ]
          },
          "metadata": {
            "tags": []
          },
          "execution_count": 20
        },
        {
          "output_type": "display_data",
          "data": {
            "image/png": "[encoded data removed]",
            "text/plain": [
              "<Figure size 432x288 with 1 Axes>"
            ]
          },
          "metadata": {
            "tags": []
          }
        }
      ]
    },
    {
      "cell_type": "markdown",
      "metadata": {
        "id": "SR7jVmCdBTIt",
        "colab_type": "text"
      },
      "source": [
        "### Function `get_number_of_posts_per_hour`"
      ]
    },
    {
      "cell_type": "markdown",
      "metadata": {
        "collapsed": true,
        "id": "0cIZKe2bBTIu",
        "colab_type": "text"
      },
      "source": [
        "The following function gets the hour of the day at which a post was submitted. **Use it to find the number of posts submitted at each hour of the day.** The value of `hours_buckets` should match the one printed below."
      ]
    },
    {
      "cell_type": "code",
      "metadata": {
        "id": "GSwMjaUYBTIu",
        "colab_type": "code",
        "colab": {}
      },
      "source": [
        "def get_hour(rec):\n",
        "    t = dt.utcfromtimestamp(rec['created_at_i'])\n",
        "    return t.hour"
      ],
      "execution_count": 0,
      "outputs": []
    },
    {
      "cell_type": "code",
      "metadata": {
        "id": "q_ePIH0LBTIy",
        "colab_type": "code",
        "colab": {}
      },
      "source": [
        "hours_buckets_rdd = dataset.map(lambda x: (get_hour(x), 1)).reduceByKey(lambda x, y: x+y)"
      ],
      "execution_count": 0,
      "outputs": []
    },
    {
      "cell_type": "code",
      "metadata": {
        "id": "se-NolRjBTI1",
        "colab_type": "code",
        "colab": {}
      },
      "source": [
        "hours_buckets = sorted(hours_buckets_rdd.collect())"
      ],
      "execution_count": 0,
      "outputs": []
    },
    {
      "cell_type": "code",
      "metadata": {
        "scrolled": false,
        "id": "YNPKjWCLBTI3",
        "colab_type": "code",
        "outputId": "4449912e-ae54-4ffa-a397-6e4fc050b247",
        "colab": {
          "base_uri": "https://localhost:8080/",
          "height": 287
        }
      },
      "source": [
        "hrs = [x[0] for x in hours_buckets]\n",
        "sz = [x[1] for x in hours_buckets]\n",
        "plt.plot(hrs, sz)"
      ],
      "execution_count": 0,
      "outputs": [
        {
          "output_type": "execute_result",
          "data": {
            "text/plain": [
              "[<matplotlib.lines.Line2D at 0x7f142bbb9128>]"
            ]
          },
          "metadata": {
            "tags": []
          },
          "execution_count": 24
        },
        {
          "output_type": "display_data",
          "data": {
            "image/png": "[encoded data removed]",
            "text/plain": [
              "<Figure size 432x288 with 1 Axes>"
            ]
          },
          "metadata": {
            "tags": []
          }
        }
      ]
    },
    {
      "cell_type": "markdown",
      "metadata": {
        "id": "Uzox3Ej8BTI5",
        "colab_type": "text"
      },
      "source": [
        "### Function `get_score_per_hour`"
      ]
    },
    {
      "cell_type": "markdown",
      "metadata": {
        "id": "Bp3rmO3VBTI6",
        "colab_type": "text"
      },
      "source": [
        "The number of points scored by a post is under the attribute `points`. **Use it to compute the average score received by submissions for each hour.**"
      ]
    },
    {
      "cell_type": "code",
      "metadata": {
        "id": "3GROL_pWBTI7",
        "colab_type": "code",
        "colab": {}
      },
      "source": [
        "scores_per_hour_rdd = dataset.map(lambda x: (get_hour(x), (x['points'], 1))).reduceByKey(lambda x, y: (x[0] + y[0], x[1] + y[1])).map(lambda x: (x[0], x[1][0] / x[1][1]))"
      ],
      "execution_count": 0,
      "outputs": []
    },
    {
      "cell_type": "code",
      "metadata": {
        "id": "nq5mvDNrBTI9",
        "colab_type": "code",
        "colab": {}
      },
      "source": [
        "scores_per_hour = sorted(scores_per_hour_rdd.collect())"
      ],
      "execution_count": 0,
      "outputs": []
    },
    {
      "cell_type": "code",
      "metadata": {
        "id": "jf91DllQBTI_",
        "colab_type": "code",
        "outputId": "cc3b266d-9c11-46b1-e42b-ddf40967f98d",
        "colab": {
          "base_uri": "https://localhost:8080/",
          "height": 287
        }
      },
      "source": [
        "hrs = [x[0] for x in scores_per_hour]\n",
        "sz = [x[1] for x in scores_per_hour]\n",
        "plt.plot(hrs, sz)"
      ],
      "execution_count": 0,
      "outputs": [
        {
          "output_type": "execute_result",
          "data": {
            "text/plain": [
              "[<matplotlib.lines.Line2D at 0x7f142bb11dd8>]"
            ]
          },
          "metadata": {
            "tags": []
          },
          "execution_count": 27
        },
        {
          "output_type": "display_data",
          "data": {
            "image/png": "[encoded data removed]",
            "text/plain": [
              "<Figure size 432x288 with 1 Axes>"
            ]
          },
          "metadata": {
            "tags": []
          }
        }
      ]
    },
    {
      "cell_type": "markdown",
      "metadata": {
        "id": "STtD3c5rBTJB",
        "colab_type": "text"
      },
      "source": [
        "### Function `get_proportion_of_scores`"
      ]
    },
    {
      "cell_type": "markdown",
      "metadata": {
        "id": "ZawoPBlQBTJD",
        "colab_type": "text"
      },
      "source": [
        "It may be more useful to look at sucessful posts that get over 200 points. **Find the proportion of posts that get above 200 points per hour.**"
      ]
    },
    {
      "cell_type": "code",
      "metadata": {
        "id": "sjvTpfxhBTJE",
        "colab_type": "code",
        "colab": {}
      },
      "source": [
        "prop_per_hour_rdd = dataset.map(lambda x: (get_hour(x), (1 if x['points'] > 200 else 0, 1))).reduceByKey(lambda x, y: (x[0] + y[0], x[1] + y[1])).map(lambda x: (x[0], x[1][0] / x[1][1]))"
      ],
      "execution_count": 0,
      "outputs": []
    },
    {
      "cell_type": "code",
      "metadata": {
        "id": "iomv6y2aBTJG",
        "colab_type": "code",
        "colab": {}
      },
      "source": [
        "prop_per_hour = sorted(prop_per_hour_rdd.collect())"
      ],
      "execution_count": 0,
      "outputs": []
    },
    {
      "cell_type": "code",
      "metadata": {
        "id": "e7lFZHy_BTJI",
        "colab_type": "code",
        "outputId": "9efc84d6-a45d-4e46-ff16-4557a5d04df5",
        "colab": {
          "base_uri": "https://localhost:8080/",
          "height": 287
        }
      },
      "source": [
        "hrs = [x[0] for x in prop_per_hour]\n",
        "sz = [x[1] for x in prop_per_hour]\n",
        "plt.plot(hrs, sz)"
      ],
      "execution_count": 0,
      "outputs": [
        {
          "output_type": "execute_result",
          "data": {
            "text/plain": [
              "[<matplotlib.lines.Line2D at 0x7f142baf3048>]"
            ]
          },
          "metadata": {
            "tags": []
          },
          "execution_count": 30
        },
        {
          "output_type": "display_data",
          "data": {
            "image/png": "[encoded data removed]",
            "text/plain": [
              "<Figure size 432x288 with 1 Axes>"
            ]
          },
          "metadata": {
            "tags": []
          }
        }
      ]
    },
    {
      "cell_type": "markdown",
      "metadata": {
        "id": "gS0Rg22eBTJL",
        "colab_type": "text"
      },
      "source": [
        "### Function `get_proportion_of_success`"
      ]
    },
    {
      "cell_type": "markdown",
      "metadata": {
        "id": "JwRo7iEHBTJM",
        "colab_type": "text"
      },
      "source": [
        "The following function lists the word in the title. **Use it to count the number of words in the title of each post, and look at the proportion of successful posts for each title length.**\n",
        "\n",
        "If an element does not have a title, it should count it as a length of 0."
      ]
    },
    {
      "cell_type": "code",
      "metadata": {
        "id": "YQx7ECTpBTJN",
        "colab_type": "code",
        "colab": {}
      },
      "source": [
        "import re\n",
        "def get_words(line):\n",
        "    return re.compile('\\w+').findall(line)"
      ],
      "execution_count": 0,
      "outputs": []
    },
    {
      "cell_type": "code",
      "metadata": {
        "id": "gpRD9Kd9BTJP",
        "colab_type": "code",
        "colab": {}
      },
      "source": [
        "prop_per_title_length_rdd = dataset.map(lambda x: (len(get_words(x.get('title', ''))),(1 if x['points'] > 200 else 0, 1))).reduceByKey(lambda x, y: (x[0] + y[0], x[1] + y[1])).map(lambda x: (x[0], x[1][0] / x[1][1]))"
      ],
      "execution_count": 0,
      "outputs": []
    },
    {
      "cell_type": "code",
      "metadata": {
        "id": "iOQeBrOJBTJR",
        "colab_type": "code",
        "colab": {}
      },
      "source": [
        "prop_per_title_length = sorted(prop_per_title_length_rdd.collect())"
      ],
      "execution_count": 0,
      "outputs": []
    },
    {
      "cell_type": "code",
      "metadata": {
        "id": "pWkSKkLuBTJT",
        "colab_type": "code",
        "outputId": "b9a6f854-6ee9-443c-b0eb-93e1541e211d",
        "colab": {
          "base_uri": "https://localhost:8080/",
          "height": 287
        }
      },
      "source": [
        "hrs = [x[0] for x in prop_per_title_length]\n",
        "sz = [x[1] for x in prop_per_title_length]\n",
        "plt.plot(hrs, sz)"
      ],
      "execution_count": 0,
      "outputs": [
        {
          "output_type": "execute_result",
          "data": {
            "text/plain": [
              "[<matplotlib.lines.Line2D at 0x7f142ba52d68>]"
            ]
          },
          "metadata": {
            "tags": []
          },
          "execution_count": 34
        },
        {
          "output_type": "display_data",
          "data": {
            "image/png": "[encoded data removed]",
            "text/plain": [
              "<Figure size 432x288 with 1 Axes>"
            ]
          },
          "metadata": {
            "tags": []
          }
        }
      ]
    },
    {
      "cell_type": "markdown",
      "metadata": {
        "id": "2nfrkO-7BTJV",
        "colab_type": "text"
      },
      "source": [
        "### Function `get_title_length_distribution`"
      ]
    },
    {
      "cell_type": "markdown",
      "metadata": {
        "id": "aHTPaIO5BTJW",
        "colab_type": "text"
      },
      "source": [
        "Lets compare this with the distribution of number of words. **Count for each title length the number of submissions with that length.**"
      ]
    },
    {
      "cell_type": "code",
      "metadata": {
        "id": "xMSdBEF-BTJX",
        "colab_type": "code",
        "colab": {}
      },
      "source": [
        "submissions_per_length_rdd = dataset.map(lambda x: (len(get_words(x.get('title', ''))), 1)).reduceByKey(lambda x, y: x + y)"
      ],
      "execution_count": 0,
      "outputs": []
    },
    {
      "cell_type": "code",
      "metadata": {
        "id": "zvwdUs1kBTJc",
        "colab_type": "code",
        "colab": {}
      },
      "source": [
        "submissions_per_length = sorted(submissions_per_length_rdd.collect())"
      ],
      "execution_count": 0,
      "outputs": []
    },
    {
      "cell_type": "code",
      "metadata": {
        "id": "czUD-I5SBTJe",
        "colab_type": "code",
        "outputId": "36ccd646-c56c-4197-a4eb-732689c1313e",
        "colab": {
          "base_uri": "https://localhost:8080/",
          "height": 287
        }
      },
      "source": [
        "hrs = [x[0] for x in submissions_per_length]\n",
        "sz = [x[1] for x in submissions_per_length]\n",
        "plt.plot(hrs, sz)"
      ],
      "execution_count": 0,
      "outputs": [
        {
          "output_type": "execute_result",
          "data": {
            "text/plain": [
              "[<matplotlib.lines.Line2D at 0x7f142ba35dd8>]"
            ]
          },
          "metadata": {
            "tags": []
          },
          "execution_count": 37
        },
        {
          "output_type": "display_data",
          "data": {
            "image/png": "[encoded data removed]",
            "text/plain": [
              "<Figure size 432x288 with 1 Axes>"
            ]
          },
          "metadata": {
            "tags": []
          }
        }
      ]
    },
    {
      "cell_type": "markdown",
      "metadata": {
        "id": "bLP6YNyFBTJf",
        "colab_type": "text"
      },
      "source": [
        "Looks like most people are getting it wrong!"
      ]
    },
    {
      "cell_type": "markdown",
      "metadata": {
        "id": "E9_4q9P7BTJg",
        "colab_type": "text"
      },
      "source": [
        "### Optional"
      ]
    },
    {
      "cell_type": "markdown",
      "metadata": {
        "collapsed": true,
        "id": "npprHTDDBTJg",
        "colab_type": "text"
      },
      "source": [
        "For this task, you will need a new function: `takeOrdered()`. Like `take()` it collects elements from an RDD. However, it can be applied to take the smallest elements. For example, `takeOrdered(10)` returns the 10 smallest elements. Furthermore, you can pass it a function to specify the way in which the elements should be ordered. For example, `takeOrdered(10, lambda x: -x)` will return the 10 largest elements.\n",
        "\n",
        "The function below extracts the url domain out of a record. **Use it to count the number of distinct domains posted to.**"
      ]
    },
    {
      "cell_type": "code",
      "metadata": {
        "scrolled": true,
        "id": "CFn0eu1yBTJh",
        "colab_type": "code",
        "outputId": "f075bbac-66ab-42cc-8710-7f1aa5ccaa92",
        "colab": {
          "base_uri": "https://localhost:8080/",
          "height": 53
        }
      },
      "source": [
        "from urllib.parse import urlparse\n",
        "def get_domain(rec):\n",
        "    url = urlparse(rec['url']).netloc\n",
        "    if url[0:4] == 'www.':\n",
        "        return url[4:]\n",
        "    else:\n",
        "        return url\n",
        "print(get_domain(dataset.take(1)[0]))\n",
        "get_domain(dataset.first())"
      ],
      "execution_count": 0,
      "outputs": [
        {
          "output_type": "stream",
          "text": [
            "duckduckgo.com\n"
          ],
          "name": "stdout"
        },
        {
          "output_type": "execute_result",
          "data": {
            "text/plain": [
              "'duckduckgo.com'"
            ]
          },
          "metadata": {
            "tags": []
          },
          "execution_count": 38
        }
      ]
    },
    {
      "cell_type": "code",
      "metadata": {
        "id": "orcIC75HBTJj",
        "colab_type": "code",
        "colab": {}
      },
      "source": [
        "# Count the number of distinct domains\n"
      ],
      "execution_count": 0,
      "outputs": []
    },
    {
      "cell_type": "markdown",
      "metadata": {
        "id": "bGFgvS2-BTJn",
        "colab_type": "text"
      },
      "source": [
        "Using `takeOrdered()` find the 25 most popular domains posted to."
      ]
    },
    {
      "cell_type": "code",
      "metadata": {
        "id": "TwhifZ41BTJn",
        "colab_type": "code",
        "colab": {}
      },
      "source": [
        ""
      ],
      "execution_count": 0,
      "outputs": []
    },
    {
      "cell_type": "code",
      "metadata": {
        "id": "E2QUEqvtBTJu",
        "colab_type": "code",
        "colab": {}
      },
      "source": [
        "print(top25)"
      ],
      "execution_count": 0,
      "outputs": []
    },
    {
      "cell_type": "code",
      "metadata": {
        "id": "zZLgcqgLBTJw",
        "colab_type": "code",
        "colab": {}
      },
      "source": [
        "index = np.arange(25)\n",
        "labels = [x[0] for x in top25]\n",
        "counts = np.array([x[1] for x in top25]) * 100.0/dataset.count()\n",
        "plt.xticks(index,labels, rotation='vertical')\n",
        "plt.bar(index, counts, 0.5)"
      ],
      "execution_count": 0,
      "outputs": []
    }
  ]
}